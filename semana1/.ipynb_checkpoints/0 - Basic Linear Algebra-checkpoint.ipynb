{
 "cells": [
  {
   "cell_type": "code",
   "execution_count": 8,
   "metadata": {},
   "outputs": [],
   "source": [
    "import numpy as np"
   ]
  },
  {
   "cell_type": "code",
   "execution_count": 8,
   "metadata": {},
   "outputs": [
    {
     "name": "stdout",
     "output_type": "stream",
     "text": [
      "[[0.07049607 0.21732241 0.14211778]\n",
      " [0.45243085 0.56579853 0.90253296]]\n"
     ]
    }
   ],
   "source": [
    "bi_random = np.random.random([2, 3])\n",
    "print(bi_random)"
   ]
  },
  {
   "cell_type": "code",
   "execution_count": 9,
   "metadata": {},
   "outputs": [
    {
     "name": "stdout",
     "output_type": "stream",
     "text": [
      "2.350698603894561\n",
      "[0.52292692 0.78312094 1.04465074]\n",
      "[0.42993627 1.92076234]\n"
     ]
    }
   ],
   "source": [
    "print(bi_random.sum())\n",
    "print(bi_random.sum(axis=0)) # por columnas\n",
    "print(bi_random.sum(axis=1)) # por filas"
   ]
  },
  {
   "cell_type": "code",
   "execution_count": 10,
   "metadata": {},
   "outputs": [
    {
     "name": "stdout",
     "output_type": "stream",
     "text": [
      "[[14 14]\n",
      " [26 26]]\n",
      "[[ 1  1  1  2  2  2]\n",
      " [ 2  2  2  4  4  4]\n",
      " [ 3  3  3  6  6  6]\n",
      " [ 3  3  3  6  6  6]\n",
      " [ 4  4  4  8  8  8]\n",
      " [ 5  5  5 10 10 10]]\n"
     ]
    }
   ],
   "source": [
    "bi_x = np.array([[1,2,3], [3,4,5]])\n",
    "bi_y = np.array([[1,1,1], [2,2,2]])\n",
    "bi_y_dot = np.array([[1,1],[2,2],[3,3]])\n",
    "print(np.dot(bi_x, bi_y_dot))\n",
    "print(np.outer(bi_x, bi_y))"
   ]
  },
  {
   "cell_type": "code",
   "execution_count": 11,
   "metadata": {},
   "outputs": [
    {
     "data": {
      "text/plain": [
       "array([1, 2, 3, 4, 5, 6, 7])"
      ]
     },
     "execution_count": 11,
     "metadata": {},
     "output_type": "execute_result"
    }
   ],
   "source": [
    "m = np.array([1,1,1,2,3,3,4,5,5,6,7])\n",
    "np.unique(m)"
   ]
  },
  {
   "cell_type": "code",
   "execution_count": 4,
   "metadata": {},
   "outputs": [],
   "source": [
    "from sklearn import datasets"
   ]
  },
  {
   "cell_type": "code",
   "execution_count": 9,
   "metadata": {},
   "outputs": [],
   "source": [
    "digits = datasets.load_digits()\n",
    "x = digits.data\n",
    "y = digits.target"
   ]
  },
  {
   "cell_type": "code",
   "execution_count": 10,
   "metadata": {},
   "outputs": [
    {
     "name": "stdout",
     "output_type": "stream",
     "text": [
      "0\n",
      "1\n",
      "2\n",
      "3\n",
      "4\n",
      "5\n",
      "6\n",
      "7\n",
      "8\n",
      "9\n"
     ]
    }
   ],
   "source": [
    "for digits in np.unique(y):\n",
    "    print(digits)"
   ]
  },
  {
   "cell_type": "code",
   "execution_count": null,
   "metadata": {},
   "outputs": [],
   "source": []
  },
  {
   "cell_type": "code",
   "execution_count": null,
   "metadata": {},
   "outputs": [],
   "source": []
  }
 ],
 "metadata": {
  "kernelspec": {
   "display_name": "Python 3",
   "language": "python",
   "name": "python3"
  },
  "language_info": {
   "codemirror_mode": {
    "name": "ipython",
    "version": 3
   },
   "file_extension": ".py",
   "mimetype": "text/x-python",
   "name": "python",
   "nbconvert_exporter": "python",
   "pygments_lexer": "ipython3",
   "version": "3.4.3"
  }
 },
 "nbformat": 4,
 "nbformat_minor": 2
}
