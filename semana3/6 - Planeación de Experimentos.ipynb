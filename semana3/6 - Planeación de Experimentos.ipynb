{
 "cells": [
  {
   "cell_type": "markdown",
   "metadata": {},
   "source": [
    "## Validación Cruzada"
   ]
  },
  {
   "cell_type": "code",
   "execution_count": 1,
   "metadata": {},
   "outputs": [
    {
     "name": "stderr",
     "output_type": "stream",
     "text": [
      "/home/carlos/Projects/machine-learning/venv/lib/python3.4/site-packages/sklearn/cross_validation.py:41: DeprecationWarning: This module was deprecated in version 0.18 in favor of the model_selection module into which all the refactored classes and functions are moved. Also note that the interface of the new CV iterators are different from that of this module. This module will be removed in 0.20.\n",
      "  \"This module will be removed in 0.20.\", DeprecationWarning)\n"
     ]
    }
   ],
   "source": [
    "# Importando las bibliotecas\n",
    "import numpy as np\n",
    "# Para realizar validación cruzada\n",
    "from sklearn.model_selection import cross_val_score\n",
    "from sklearn.cross_validation import train_test_split\n",
    "from sklearn import datasets, svm\n",
    "# Para hacer una división entre data de training y test\n",
    "from sklearn.cross_validation import train_test_split"
   ]
  },
  {
   "cell_type": "code",
   "execution_count": 2,
   "metadata": {},
   "outputs": [
    {
     "name": "stdout",
     "output_type": "stream",
     "text": [
      "(150, 4) (150,)\n"
     ]
    }
   ],
   "source": [
    "iris = datasets.load_iris()\n",
    "X = iris.data\n",
    "y = iris.target\n",
    "\n",
    "print(iris.data.shape, iris.target.shape)"
   ]
  },
  {
   "cell_type": "code",
   "execution_count": 3,
   "metadata": {},
   "outputs": [
    {
     "name": "stdout",
     "output_type": "stream",
     "text": [
      "Training\n",
      "(120, 4) (120,)\n",
      "Test\n",
      "(30, 4) (30,)\n"
     ]
    }
   ],
   "source": [
    "# Dividiendo en data de entrenamiento y test\n",
    "X_train, X_test, y_train, y_test = train_test_split(iris.data, iris.target, test_size=0.2, random_state=0)\n",
    "print(\"Training\")\n",
    "print(X_train.shape, y_train.shape)\n",
    "print(\"Test\")\n",
    "print(X_test.shape, y_test.shape)"
   ]
  },
  {
   "cell_type": "code",
   "execution_count": 4,
   "metadata": {},
   "outputs": [
    {
     "data": {
      "text/plain": [
       "1.0"
      ]
     },
     "execution_count": 4,
     "metadata": {},
     "output_type": "execute_result"
    }
   ],
   "source": [
    "# Probando un clasificador\n",
    "clf = svm.SVC(kernel='linear', C=1).fit(X_train, y_train)\n",
    "clf.score(X_test, y_test)"
   ]
  },
  {
   "cell_type": "code",
   "execution_count": 6,
   "metadata": {},
   "outputs": [
    {
     "name": "stdout",
     "output_type": "stream",
     "text": [
      "[0.96       0.92       1.         0.95833333 0.95454545]\n",
      "0.9585757575757576\n",
      "0.02538656145080864\n"
     ]
    }
   ],
   "source": [
    "# Ejecutando validación cruzada\n",
    "scores = cross_val_score(clf, X_train, y_train, cv=5, scoring='accuracy') # cv => k-folk\n",
    "print(scores)\n",
    "print(scores.mean())\n",
    "print(scores.std())"
   ]
  },
  {
   "cell_type": "markdown",
   "metadata": {},
   "source": [
    "#### Ejecución de todas las etapas hasta el entrenamiento del clasificador"
   ]
  },
  {
   "cell_type": "code",
   "execution_count": 7,
   "metadata": {},
   "outputs": [
    {
     "data": {
      "text/plain": [
       "1.0"
      ]
     },
     "execution_count": 7,
     "metadata": {},
     "output_type": "execute_result"
    }
   ],
   "source": [
    "from sklearn import preprocessing\n",
    "scaler = preprocessing.StandardScaler().fit(X_train)\n",
    "X_train_std = scaler.transform(X_train)\n",
    "clf = svm.SVC(C=1).fit(X_train_std, y_train)\n",
    "X_test_std = scaler.transform(X_test)\n",
    "clf.score(X_test_std, y_test)  "
   ]
  },
  {
   "cell_type": "markdown",
   "metadata": {},
   "source": [
    "#### Podemos crear un pipeline para que se ejecute todo sobre los datos"
   ]
  },
  {
   "cell_type": "code",
   "execution_count": 8,
   "metadata": {},
   "outputs": [
    {
     "name": "stdout",
     "output_type": "stream",
     "text": [
      "[ 0.92        0.88        1.          1.          0.95454545]\n"
     ]
    }
   ],
   "source": [
    "from sklearn.pipeline import make_pipeline\n",
    "clf = make_pipeline(preprocessing.StandardScaler(), svm.SVC(C=1))\n",
    "scores = cross_val_score(clf, X_train, y_train, cv=5)\n",
    "print(scores)"
   ]
  },
  {
   "cell_type": "markdown",
   "metadata": {},
   "source": [
    "### Otra forma de hacer validación cruzada"
   ]
  },
  {
   "cell_type": "code",
   "execution_count": 9,
   "metadata": {},
   "outputs": [
    {
     "data": {
      "text/plain": [
       "dict_keys(['score_time', 'test_precision_macro', 'train_precision_macro', 'test_recall_macro', 'fit_time', 'train_recall_macro'])"
      ]
     },
     "execution_count": 9,
     "metadata": {},
     "output_type": "execute_result"
    }
   ],
   "source": [
    "from sklearn.model_selection import cross_validate\n",
    "scoring = ['precision_macro', 'recall_macro']\n",
    "clf = svm.SVC(kernel='linear', C=1, random_state=0)\n",
    "scores = cross_validate(clf, X_train, y_train, scoring=scoring, cv=5, return_train_score=True)\n",
    "scores.keys()"
   ]
  },
  {
   "cell_type": "code",
   "execution_count": 11,
   "metadata": {
    "scrolled": true
   },
   "outputs": [
    {
     "name": "stdout",
     "output_type": "stream",
     "text": [
      "Macro Precision:  [0.96666667 0.93333333 1.         0.96666667 0.96296296]\n",
      "Media:  0.965925925925926\n",
      "Desviacion Estandar:  0.021133840915092038\n",
      "Macro Recall:  0.02389900879591393\n",
      "Fit Time:  8.809847498168804e-05\n"
     ]
    }
   ],
   "source": [
    "print(\"Macro Precision: \" , scores['test_precision_macro'])\n",
    "print(\"Media: \" , np.mean(scores['test_precision_macro']))\n",
    "print(\"Desviacion Estandar: \" , np.std(scores['test_precision_macro']))\n",
    "print(\"Macro Recall: \" , np.std(scores['test_recall_macro']))\n",
    "print(\"Fit Time: \" , np.std(scores['fit_time']))"
   ]
  },
  {
   "cell_type": "markdown",
   "metadata": {},
   "source": [
    "## Encontrando los mejores hiperparámetros"
   ]
  },
  {
   "cell_type": "markdown",
   "metadata": {},
   "source": [
    "### GridsearchCV"
   ]
  },
  {
   "cell_type": "code",
   "execution_count": 15,
   "metadata": {},
   "outputs": [
    {
     "data": {
      "text/plain": [
       "GridSearchCV(cv=5, error_score='raise',\n",
       "       estimator=SVC(C=1.0, cache_size=200, class_weight=None, coef0=0.0,\n",
       "  decision_function_shape='ovr', degree=3, gamma='auto', kernel='rbf',\n",
       "  max_iter=-1, probability=False, random_state=0, shrinking=True,\n",
       "  tol=0.001, verbose=False),\n",
       "       fit_params={}, iid=True, n_jobs=1,\n",
       "       param_grid={'C': [0.1, 1, 10, 100], 'gamma': array([0.1  , 0.01 , 0.001]), 'kernel': ['linear', 'rbf']},\n",
       "       pre_dispatch='2*n_jobs', refit=True,\n",
       "       scoring=make_scorer(accuracy_score), verbose=0)"
      ]
     },
     "execution_count": 15,
     "metadata": {},
     "output_type": "execute_result"
    }
   ],
   "source": [
    "# Importando la biblioteca GridsearchCV\n",
    "from sklearn import grid_search\n",
    "\n",
    "# Definiendo el espacio de búsqueda de nuestro algoritmo\n",
    "parameters = {\n",
    "'C': [0.1, 1, 10, 100],\n",
    "'kernel': ['linear','rbf'],\n",
    "'gamma' : 10.0**-np.arange(1,4)\n",
    "}\n",
    "\n",
    "clf = svm.SVC(random_state=0)\n",
    "\n",
    "#score = 'accuracy' #Pasando como texto\n",
    "#Creando un scorer\n",
    "from sklearn.metrics import make_scorer, accuracy_score\n",
    "accuracy_scorer = make_scorer(accuracy_score)\n",
    "gridCV = grid_search.GridSearchCV(clf, parameters, scoring=accuracy_scorer, cv = 5) #\n",
    "gridCV.fit(X_train,y_train)"
   ]
  },
  {
   "cell_type": "code",
   "execution_count": 16,
   "metadata": {},
   "outputs": [
    {
     "name": "stdout",
     "output_type": "stream",
     "text": [
      "Mejor exactitud:  0.9666666666666667\n",
      "Resultados parciales:  [mean: 0.95000, std: 0.02004, params: {'C': 0.1, 'gamma': 0.1, 'kernel': 'linear'}, mean: 0.91667, std: 0.03022, params: {'C': 0.1, 'gamma': 0.1, 'kernel': 'rbf'}, mean: 0.95000, std: 0.02004, params: {'C': 0.1, 'gamma': 0.01, 'kernel': 'linear'}, mean: 0.69167, std: 0.01360, params: {'C': 0.1, 'gamma': 0.01, 'kernel': 'rbf'}, mean: 0.95000, std: 0.02004, params: {'C': 0.1, 'gamma': 0.001, 'kernel': 'linear'}, mean: 0.36667, std: 0.00688, params: {'C': 0.1, 'gamma': 0.001, 'kernel': 'rbf'}, mean: 0.95833, std: 0.02539, params: {'C': 1, 'gamma': 0.1, 'kernel': 'linear'}, mean: 0.95833, std: 0.02885, params: {'C': 1, 'gamma': 0.1, 'kernel': 'rbf'}, mean: 0.95833, std: 0.02539, params: {'C': 1, 'gamma': 0.01, 'kernel': 'linear'}, mean: 0.93333, std: 0.02094, params: {'C': 1, 'gamma': 0.01, 'kernel': 'rbf'}, mean: 0.95833, std: 0.02539, params: {'C': 1, 'gamma': 0.001, 'kernel': 'linear'}, mean: 0.69167, std: 0.01360, params: {'C': 1, 'gamma': 0.001, 'kernel': 'rbf'}, mean: 0.96667, std: 0.03353, params: {'C': 10, 'gamma': 0.1, 'kernel': 'linear'}, mean: 0.95833, std: 0.02539, params: {'C': 10, 'gamma': 0.1, 'kernel': 'rbf'}, mean: 0.96667, std: 0.03353, params: {'C': 10, 'gamma': 0.01, 'kernel': 'linear'}, mean: 0.95833, std: 0.02885, params: {'C': 10, 'gamma': 0.01, 'kernel': 'rbf'}, mean: 0.96667, std: 0.03353, params: {'C': 10, 'gamma': 0.001, 'kernel': 'linear'}, mean: 0.93333, std: 0.02094, params: {'C': 10, 'gamma': 0.001, 'kernel': 'rbf'}, mean: 0.95833, std: 0.02885, params: {'C': 100, 'gamma': 0.1, 'kernel': 'linear'}, mean: 0.95000, std: 0.03238, params: {'C': 100, 'gamma': 0.1, 'kernel': 'rbf'}, mean: 0.95833, std: 0.02885, params: {'C': 100, 'gamma': 0.01, 'kernel': 'linear'}, mean: 0.95833, std: 0.02539, params: {'C': 100, 'gamma': 0.01, 'kernel': 'rbf'}, mean: 0.95833, std: 0.02885, params: {'C': 100, 'gamma': 0.001, 'kernel': 'linear'}, mean: 0.95833, std: 0.02885, params: {'C': 100, 'gamma': 0.001, 'kernel': 'rbf'}]\n",
      "Mejor conjunto de parámetros:  {'C': 10, 'gamma': 0.1, 'kernel': 'linear'}\n"
     ]
    }
   ],
   "source": [
    "print(\"Mejor exactitud: \", gridCV.best_score_)\n",
    "print(\"Resultados parciales: \", gridCV.grid_scores_)\n",
    "print(\"Mejor conjunto de parámetros: \", gridCV.best_params_)"
   ]
  },
  {
   "cell_type": "markdown",
   "metadata": {},
   "source": [
    "### Usando el clasificador"
   ]
  },
  {
   "cell_type": "code",
   "execution_count": 18,
   "metadata": {},
   "outputs": [
    {
     "name": "stdout",
     "output_type": "stream",
     "text": [
      "             precision    recall  f1-score   support\n",
      "\n",
      "          0       1.00      1.00      1.00        11\n",
      "          1       1.00      1.00      1.00        13\n",
      "          2       1.00      1.00      1.00         6\n",
      "\n",
      "avg / total       1.00      1.00      1.00        30\n",
      "\n",
      "1.0\n"
     ]
    }
   ],
   "source": [
    "#Ejecutando el mejor modelo\n",
    "pred_test = gridCV.predict(X_test)\n",
    "\n",
    "from sklearn.metrics import classification_report\n",
    "classes = ['0', '1','2']\n",
    "print(classification_report(y_test, pred_test, target_names=classes))\n",
    "print(accuracy_score(y_test,pred_test))"
   ]
  },
  {
   "cell_type": "markdown",
   "metadata": {},
   "source": [
    "#### Visualizando la matriz de confusión"
   ]
  },
  {
   "cell_type": "code",
   "execution_count": 19,
   "metadata": {},
   "outputs": [
    {
     "data": {
      "text/plain": [
       "array([[11,  0,  0],\n",
       "       [ 0, 13,  0],\n",
       "       [ 0,  0,  6]])"
      ]
     },
     "execution_count": 19,
     "metadata": {},
     "output_type": "execute_result"
    }
   ],
   "source": [
    "from sklearn.metrics import confusion_matrix\n",
    "confusion_matrix(y_test, pred_test)"
   ]
  },
  {
   "cell_type": "markdown",
   "metadata": {},
   "source": [
    "## Visualizando los clasificadores y los hiperparámetros"
   ]
  },
  {
   "cell_type": "code",
   "execution_count": 21,
   "metadata": {},
   "outputs": [
    {
     "name": "stdout",
     "output_type": "stream",
     "text": [
      "1e-10 - [0.36585366 0.375      0.35897436]\n",
      "1.2915496650148826e-09 - [0.36585366 0.375      0.35897436]\n",
      "1.6681005372000592e-08 - [0.36585366 0.375      0.35897436]\n",
      "2.1544346900318867e-07 - [0.36585366 0.375      0.35897436]\n",
      "2.782559402207126e-06 - [0.36585366 0.375      0.35897436]\n",
      "3.5938136638046256e-05 - [0.73170732 0.85       0.82051282]\n",
      "0.0004641588833612782 - [0.87804878 0.975      0.92307692]\n",
      "0.005994842503189421 - [0.90243902 1.         0.92307692]\n",
      "0.07742636826811278 - [0.85365854 1.         0.92307692]\n",
      "1.0 - [0.95121951 1.         0.92307692]\n"
     ]
    },
    {
     "data": {
      "image/png": "[encoded data removed]",
      "text/plain": [
       "<matplotlib.figure.Figure at 0x7f7888c673c8>"
      ]
     },
     "metadata": {},
     "output_type": "display_data"
    }
   ],
   "source": [
    "svc = svm.SVC(kernel='poly')\n",
    "C_s = np.logspace(-10, 0, 10)\n",
    "scores = list()\n",
    "scores_std = list()\n",
    "for C in C_s:\n",
    "    svc.C = C\n",
    "    this_scores = cross_val_score(svc, X_train, y_train)\n",
    "    print(str(C) + \" - \" + str(this_scores))\n",
    "    scores.append(np.mean(this_scores))\n",
    "    scores_std.append(np.std(this_scores))\n",
    "\n",
    "# Do the plotting\n",
    "import matplotlib.pyplot as plt\n",
    "plt.figure(1, figsize=(4, 3))\n",
    "plt.clf()\n",
    "plt.semilogx(C_s, scores)\n",
    "plt.semilogx(C_s, np.array(scores) + np.array(scores_std), 'b--')\n",
    "plt.semilogx(C_s, np.array(scores) - np.array(scores_std), 'b--')\n",
    "locs, labels = plt.yticks()\n",
    "plt.yticks(locs, list(map(lambda x: \"%g\" % x, locs)))\n",
    "plt.ylabel('CV score')\n",
    "plt.xlabel('Parameter C')\n",
    "plt.ylim(0, 1.1)\n",
    "plt.show()"
   ]
  },
  {
   "cell_type": "markdown",
   "metadata": {
    "collapsed": true
   },
   "source": [
    "### Curva de Validación"
   ]
  },
  {
   "cell_type": "code",
   "execution_count": 25,
   "metadata": {},
   "outputs": [],
   "source": [
    "# Importando el método \n",
    "from sklearn.model_selection import validation_curve\n",
    "from sklearn.preprocessing import StandardScaler\n",
    "\n",
    "from sklearn.pipeline import Pipeline\n",
    "pipe_lr = Pipeline([('scl', StandardScaler()),\n",
    "                    ('clf', svm.SVC(kernel='linear', random_state=1))])"
   ]
  },
  {
   "cell_type": "code",
   "execution_count": 28,
   "metadata": {},
   "outputs": [],
   "source": [
    "param_range = [0.001, 0.01, 0.1, 1.0, 10.0, 100.0]\n",
    "train_scores, test_scores = validation_curve(estimator=pipe_lr, X=X_train, y=y_train, param_name='clf__C',param_range=param_range, cv=10)"
   ]
  },
  {
   "cell_type": "code",
   "execution_count": 30,
   "metadata": {},
   "outputs": [
    {
     "data": {
      "image/png": "[encoded data removed]",
      "text/plain": [
       "<matplotlib.figure.Figure at 0x7f7888b51f28>"
      ]
     },
     "metadata": {},
     "output_type": "display_data"
    }
   ],
   "source": [
    "train_mean = np.mean(train_scores, axis=1)\n",
    "train_std = np.std(train_scores, axis=1)\n",
    "test_mean = np.mean(test_scores, axis=1)\n",
    "test_std = np.std(test_scores, axis=1)\n",
    "\n",
    "import matplotlib.pyplot as plt\n",
    "plt.plot(param_range, train_mean, \n",
    "         color='blue', marker='o', \n",
    "         markersize=5, label='training accuracy')\n",
    "\n",
    "plt.fill_between(param_range, train_mean + train_std,\n",
    "                 train_mean - train_std, alpha=0.15,\n",
    "                 color='blue')\n",
    "\n",
    "plt.plot(param_range, test_mean, \n",
    "         color='green', linestyle='--', \n",
    "         marker='s', markersize=5, \n",
    "         label='validation accuracy')\n",
    "\n",
    "plt.fill_between(param_range, \n",
    "                 test_mean + test_std,\n",
    "                 test_mean - test_std, \n",
    "                 alpha=0.15, color='green')\n",
    "\n",
    "plt.grid()\n",
    "plt.xscale('log')\n",
    "plt.legend(loc='lower right')\n",
    "plt.xlabel('Parameter C')\n",
    "plt.ylabel('Accuracy')\n",
    "plt.ylim([0.8, 1.0])\n",
    "plt.tight_layout()\n",
    "# plt.savefig('./figures/validation_curve.png', dpi=300)\n",
    "plt.show()"
   ]
  },
  {
   "cell_type": "markdown",
   "metadata": {},
   "source": [
    "### Curva de Aprendizaje"
   ]
  },
  {
   "cell_type": "code",
   "execution_count": 31,
   "metadata": {},
   "outputs": [],
   "source": [
    "# Importando Learning Curve\n",
    "from sklearn.model_selection import learning_curve"
   ]
  },
  {
   "cell_type": "code",
   "execution_count": 32,
   "metadata": {},
   "outputs": [],
   "source": [
    "train_sizes, train_scores, val_scores =\\\n",
    "                learning_curve(estimator=pipe_lr,\n",
    "                               X=X_train,\n",
    "                               y=y_train,\n",
    "                               train_sizes=np.linspace(0.1, 1.0, 10),\n",
    "                               cv=10,\n",
    "                               n_jobs=1)"
   ]
  },
  {
   "cell_type": "code",
   "execution_count": 33,
   "metadata": {},
   "outputs": [
    {
     "data": {
      "image/png": "[encoded data removed]",
      "text/plain": [
       "<matplotlib.figure.Figure at 0x7f7888cd2a20>"
      ]
     },
     "metadata": {},
     "output_type": "display_data"
    }
   ],
   "source": [
    "train_mean = np.mean(train_scores, axis=1)\n",
    "train_std = np.std(train_scores, axis=1)\n",
    "val_mean = np.mean(val_scores, axis=1)\n",
    "val_std = np.std(val_scores, axis=1)\n",
    "\n",
    "plt.plot(train_sizes, train_mean,\n",
    "         color='blue', marker='o',\n",
    "         markersize=5, label='training accuracy')\n",
    "\n",
    "plt.fill_between(train_sizes,\n",
    "                 train_mean + train_std,\n",
    "                 train_mean - train_std,\n",
    "                 alpha=0.15, color='blue')\n",
    "\n",
    "plt.plot(train_sizes, val_mean,\n",
    "         color='green', linestyle='--',\n",
    "         marker='s', markersize=5,\n",
    "         label='validation accuracy')\n",
    "\n",
    "plt.fill_between(train_sizes,\n",
    "                 val_mean + val_std,\n",
    "                 val_mean - val_std,\n",
    "                 alpha=0.15, color='green')\n",
    "\n",
    "plt.grid()\n",
    "plt.xlabel('Number of training samples')\n",
    "plt.ylabel('Accuracy')\n",
    "plt.legend(loc='lower right')\n",
    "plt.ylim([0.8, 1.0])\n",
    "plt.tight_layout()\n",
    "# plt.savefig('./figures/learning_curve.png', dpi=300)\n",
    "plt.show()"
   ]
  },
  {
   "cell_type": "code",
   "execution_count": null,
   "metadata": {
    "collapsed": true
   },
   "outputs": [],
   "source": []
  }
 ],
 "metadata": {
  "kernelspec": {
   "display_name": "Python 3",
   "language": "python",
   "name": "python3"
  },
  "language_info": {
   "codemirror_mode": {
    "name": "ipython",
    "version": 3
   },
   "file_extension": ".py",
   "mimetype": "text/x-python",
   "name": "python",
   "nbconvert_exporter": "python",
   "pygments_lexer": "ipython3",
   "version": "3.4.3"
  }
 },
 "nbformat": 4,
 "nbformat_minor": 2
}
