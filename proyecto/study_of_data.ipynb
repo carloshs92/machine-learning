{
 "cells": [
  {
   "cell_type": "code",
   "execution_count": 2,
   "metadata": {},
   "outputs": [],
   "source": [
    "import numpy as np\n",
    "import pandas as pd\n",
    "from sklearn import svm\n",
    "from sklearn.tree import DecisionTreeClassifier\n",
    "from sklearn.ensemble import RandomForestClassifier\n",
    "from sklearn.datasets.base import Bunch\n",
    "from sklearn.cross_validation import train_test_split, cross_val_score\n",
    "from utils import plot_decision_regions, df_to_sarray\n",
    "import matplotlib.pyplot as plt\n",
    "import seaborn as sns\n",
    "from sklearn import grid_search\n",
    "\n",
    "# About the data\n",
    "# The datasets contains transactions made by credit cards in September 2013 by european cardholders.\n",
    "# We have 492 frauds out of 284,807 transactions.\n",
    "# The dataset is highly unbalanced, the positive class (frauds) account for 0.172% of all transactions.\n",
    "# First input is Time\n",
    "# Final input is Amount\n",
    "# The target Class indicate if the transaction was a fraud or not"
   ]
  },
  {
   "cell_type": "markdown",
   "metadata": {},
   "source": [
    "## Carga de Dataset"
   ]
  },
  {
   "cell_type": "code",
   "execution_count": 3,
   "metadata": {},
   "outputs": [
    {
     "name": "stdout",
     "output_type": "stream",
     "text": [
      "Index(['Time', 'V1', 'V2', 'V3', 'V4', 'V5', 'V6', 'V7', 'V8', 'V9', 'V10',\n",
      "       'V11', 'V12', 'V13', 'V14', 'V15', 'V16', 'V17', 'V18', 'V19', 'V20',\n",
      "       'V21', 'V22', 'V23', 'V24', 'V25', 'V26', 'V27', 'V28', 'Amount',\n",
      "       'Class'],\n",
      "      dtype='object')\n"
     ]
    }
   ],
   "source": [
    "# Get the Data\n",
    "points = pd.read_csv('creditcard.csv', sep=\",\")\n",
    "print(points.columns)"
   ]
  },
  {
   "cell_type": "markdown",
   "metadata": {},
   "source": [
    "##  Preprocesamiento de Datos"
   ]
  },
  {
   "cell_type": "code",
   "execution_count": 4,
   "metadata": {},
   "outputs": [
    {
     "name": "stdout",
     "output_type": "stream",
     "text": [
      "         Time        V1        V2         V3        V4        V5        V6  \\\n",
      "541     406.0 -2.312227  1.951992  -1.609851  3.997906 -0.522188 -1.426545   \n",
      "623     472.0 -3.043541 -3.157307   1.088463  2.288644  1.359805 -1.064823   \n",
      "4920   4462.0 -2.303350  1.759247  -0.359745  2.330243 -0.821628 -0.075788   \n",
      "6108   6986.0 -4.397974  1.358367  -2.592844  2.679787 -1.128131 -1.706536   \n",
      "6329   7519.0  1.234235  3.019740  -4.304597  4.732795  3.624201 -1.357746   \n",
      "6331   7526.0  0.008430  4.137837  -6.240697  6.675732  0.768307 -3.353060   \n",
      "6334   7535.0  0.026779  4.132464  -6.560600  6.348557  1.329666 -2.513479   \n",
      "6336   7543.0  0.329594  3.712889  -5.775935  6.078266  1.667359 -2.420168   \n",
      "6338   7551.0  0.316459  3.809076  -5.615159  6.047445  1.554026 -2.651353   \n",
      "6427   7610.0  0.725646  2.300894  -5.329976  4.007683 -1.730411 -1.732193   \n",
      "6446   7672.0  0.702710  2.426433  -5.234513  4.416661 -2.170806 -2.667554   \n",
      "6472   7740.0  1.023874  2.001485  -4.769752  3.819195 -1.271754 -1.734662   \n",
      "6529   7891.0 -1.585505  3.261585  -4.137422  2.357096 -1.405043 -1.879437   \n",
      "6609   8090.0 -1.783229  3.402794  -3.822742  2.625368 -1.976415 -2.731689   \n",
      "6641   8169.0  0.857321  4.093912  -7.423894  7.380245  0.973366 -2.730762   \n",
      "6717   8408.0 -1.813280  4.917851  -5.926130  5.701500  1.204393 -3.035138   \n",
      "6719   8415.0 -0.251471  4.313523  -6.891438  6.796797  0.616297 -2.966327   \n",
      "6734   8451.0  0.314597  2.660670  -5.920037  4.522500 -2.315027 -2.278352   \n",
      "6774   8528.0  0.447396  2.481954  -5.660814  4.455923 -2.443780 -2.185040   \n",
      "6820   8614.0 -2.169929  3.639654  -4.508498  2.730668 -2.122693 -2.341017   \n",
      "6870   8757.0 -1.863756  3.442644  -4.468260  2.805336 -2.118412 -2.332285   \n",
      "6882   8808.0 -4.617217  1.695694  -3.114372  4.328199 -1.873257 -0.989908   \n",
      "6899   8878.0 -2.661802  5.856393  -7.653616  6.379742 -0.060712 -3.131550   \n",
      "6903   8886.0 -2.535852  5.793644  -7.618463  6.395830 -0.065210 -3.136372   \n",
      "6971   9064.0 -3.499108  0.258555  -4.489558  4.853894 -6.974522  3.628382   \n",
      "8296  11080.0 -2.125490  5.973556 -11.034727  9.007147 -1.689451 -2.854415   \n",
      "8312  11092.0  0.378275  3.914797  -5.726872  6.094141  1.698875 -2.807314   \n",
      "8335  11131.0 -1.426623  4.141986  -9.804103  6.666273 -4.749527 -2.073129   \n",
      "8615  11629.0 -3.891192  7.098916 -11.426467  8.607557 -2.065706 -2.985288   \n",
      "8617  11635.0  0.919137  4.199633  -7.535607  7.426940  1.118215 -2.886722   \n",
      "...       ...       ...       ...        ...       ...       ...       ...   \n",
      "4973   4534.0  1.297509 -0.019440  -0.777992 -0.333558  1.946221  3.443205   \n",
      "4974   4536.0 -0.586659  0.779305   1.398090  0.312591  0.579907  0.471269   \n",
      "4975   4537.0  1.119751  0.325089   1.490509  2.660682 -0.504515  0.610635   \n",
      "4976   4537.0  1.182833  0.314145   0.375934  1.292071 -0.120686 -0.473681   \n",
      "4977   4540.0 -1.400193  0.744386   2.118092  3.126864 -1.401758  1.460903   \n",
      "4978   4541.0 -1.529830  1.531544   1.891401  1.808791 -1.155159  0.521431   \n",
      "4979   4543.0  1.260466 -0.040997   0.255452  0.717149 -0.021413  0.419798   \n",
      "4980   4544.0 -0.908938  0.872991   2.194870  0.750183  0.504101 -0.044934   \n",
      "4981   4545.0  1.298573  0.138637   0.408633  0.890721 -0.118061 -0.066337   \n",
      "4982   4547.0 -1.452637  1.010230   1.135086  0.261448  0.531552 -0.627440   \n",
      "4983   4549.0 -0.478688  1.095879   2.251055  0.801537  0.766616  0.029496   \n",
      "4984   4550.0 -0.668847  0.192083   2.560111 -0.892411 -0.046207 -0.329043   \n",
      "4985   4551.0 -0.632734  1.313376   1.979912  0.954854  0.220228 -0.575206   \n",
      "4986   4552.0  1.299287 -0.778070   1.042581 -0.371644 -1.307341 -0.142956   \n",
      "4987   4553.0 -3.115150  3.010533  -0.154846 -0.188795 -0.632819 -0.685495   \n",
      "4988   4554.0 -0.354130  1.111132   1.299948  0.082108  0.225699 -0.454130   \n",
      "4989   4555.0  1.201675  0.022900   0.720272  1.116196 -0.647248 -0.574110   \n",
      "4990   4555.0 -2.162312  1.816711   1.360263  1.917199 -1.587954  0.548734   \n",
      "4991   4556.0 -0.146614  1.134847   1.911945  3.154385  0.204749  0.010786   \n",
      "4992   4557.0 -1.038060  1.680394   1.234957  0.946144  0.046132 -0.471040   \n",
      "4993   4558.0 -0.563668  1.318463   2.304800  3.038076  0.278057 -0.094805   \n",
      "4994   4558.0 -1.018567  1.568311   1.744595  0.774484  0.238641  0.070428   \n",
      "4995   4560.0  1.108783  0.055038   1.067820  1.762378 -0.479110  0.333237   \n",
      "4996   4561.0 -0.322937  0.914229   2.571751  3.314611 -0.487059  0.701042   \n",
      "4997   4561.0 -0.594534  0.603273   1.681460  0.331167  0.344769  1.017832   \n",
      "4998   4562.0 -1.510867  1.725945   0.990544 -0.463845 -0.589761 -0.744447   \n",
      "4999   4563.0 -2.071050  2.153658   0.529213 -0.479327 -0.930649 -0.827955   \n",
      "5000   4564.0  1.007340 -1.268269   0.804611  0.136104 -1.633237 -0.300999   \n",
      "5001   4569.0 -0.895105  0.904602   1.933145 -1.133016 -0.213778 -0.766720   \n",
      "5002   4569.0 -2.097405  1.722245  -1.084088 -2.398462  2.007586  3.016171   \n",
      "\n",
      "             V7        V8        V9  ...         V21       V22       V23  \\\n",
      "541   -2.537387  1.391657 -2.770089  ...    0.517232 -0.035049 -0.465211   \n",
      "623    0.325574 -0.067794 -0.270953  ...    0.661696  0.435477  1.375966   \n",
      "4920   0.562320 -0.399147 -0.238253  ...   -0.294166 -0.932391  0.172726   \n",
      "6108  -3.496197 -0.248778 -0.247768  ...    0.573574  0.176968 -0.436207   \n",
      "6329   1.713445 -0.496358 -1.282858  ...   -0.379068 -0.704181 -0.656805   \n",
      "6331  -1.631735  0.154612 -2.795892  ...    0.364514 -0.608057 -0.539528   \n",
      "6334  -1.689102  0.303253 -3.139409  ...    0.370509 -0.576752 -0.669605   \n",
      "6336  -0.812891  0.133080 -2.214311  ...    0.156617 -0.652450 -0.551572   \n",
      "6338  -0.746579  0.055586 -2.678679  ...    0.208828 -0.511747 -0.583813   \n",
      "6427  -3.968593  1.063728 -0.486097  ...    0.589669  0.109541  0.601045   \n",
      "6446  -3.878088  0.911337 -0.166199  ...    0.551180 -0.009802  0.721698   \n",
      "6472  -3.059245  0.889805  0.415382  ...    0.343283 -0.054196  0.709654   \n",
      "6529  -3.513687  1.515607 -1.207166  ...    0.501543 -0.546869 -0.076584   \n",
      "6609  -3.430559  1.413204 -0.776941  ...    0.454032 -0.577526  0.045967   \n",
      "6641  -1.496497  0.543015 -2.351190  ...    0.375026  0.145400  0.240603   \n",
      "6717  -1.713402  0.561257 -3.796354  ...    0.615642 -0.406427 -0.737018   \n",
      "6719  -2.436653  0.489328 -3.371639  ...    0.536892 -0.546126 -0.605240   \n",
      "6734  -4.684054  1.202270 -0.694696  ...    0.743314  0.064038  0.677842   \n",
      "6774  -4.716143  1.249803 -0.718326  ...    0.756053  0.140168  0.665411   \n",
      "6820  -4.235253  1.703538 -1.305279  ...    0.645103 -0.503529 -0.000523   \n",
      "6870  -4.261237  1.701682 -1.439396  ...    0.667927 -0.516242 -0.012218   \n",
      "6882  -4.577265  0.472216  0.472017  ...    0.481830  0.146023  0.117039   \n",
      "6899  -3.103570  1.778492 -3.831154  ...    0.734775 -0.435901 -0.384766   \n",
      "6903  -3.104557  1.823233 -3.878658  ...    0.716720 -0.448060 -0.402407   \n",
      "6971   5.431271 -1.946734 -0.775680  ...   -1.052368  0.204817 -2.119007   \n",
      "8296  -7.810441  2.030870 -5.902828  ...    1.646518 -0.278485 -0.664841   \n",
      "8312  -0.591118 -0.123496 -2.530713  ...    0.149896 -0.601967 -0.613724   \n",
      "8335 -10.089931  2.791345 -3.249516  ...    1.865679  0.407809  0.605809   \n",
      "8615  -8.138589  2.973928 -6.272790  ...    1.757085 -0.189709 -0.508629   \n",
      "8617  -1.341036  0.363933 -2.203224  ...    0.316094  0.055179  0.210692   \n",
      "...         ...       ...       ...  ...         ...       ...       ...   \n",
      "4973  -0.807128  0.780455  1.382092  ...   -0.308262 -0.787334  0.039673   \n",
      "4974   0.519127 -0.649584  0.088179  ...   -0.440872 -0.040786 -0.164658   \n",
      "4975  -0.764666  0.228222  1.066901  ...   -0.019117  0.273148 -0.083981   \n",
      "4976  -0.014539 -0.113962  1.433396  ...   -0.101887 -0.043071 -0.053467   \n",
      "4977   0.375688  0.706134 -0.032459  ...    0.209277  0.424350  0.388423   \n",
      "4978  -0.810033  1.180049  1.420878  ...   -0.433967 -0.650088  0.001442   \n",
      "4979  -0.410283  0.091149  1.864155  ...   -0.272895 -0.373450 -0.224969   \n",
      "4980   0.189569  0.021651  0.487773  ...   -0.261498 -0.470608 -0.077343   \n",
      "4981  -0.226657 -0.146345  1.911366  ...   -0.293951 -0.317344 -0.179119   \n",
      "4982   0.493409 -0.189889  1.238347  ...   -0.477287 -0.665792  0.428584   \n",
      "4983   0.648052 -0.336255  0.610814  ...   -0.363424 -0.608584 -0.307568   \n",
      "4984   0.503749 -0.405029  1.792504  ...   -0.027076  0.579171 -0.241759   \n",
      "4985   0.931230 -0.469758  0.835647  ...   -0.091871  0.035877 -0.401809   \n",
      "4986  -1.149083 -0.085987  1.134867  ...    0.160858  0.704543 -0.203956   \n",
      "4987  -0.001928  0.690993  2.426468  ...   -0.662707 -0.947926  0.223062   \n",
      "4988   0.426053  0.078684  0.823450  ...   -0.398507 -0.915069 -0.048306   \n",
      "4989  -0.255209 -0.145975  2.014183  ...   -0.239380 -0.259328 -0.079711   \n",
      "4990  -1.135929  1.641235  1.826258  ...   -0.454241 -0.736189  0.149861   \n",
      "4991   0.176608  0.059406 -0.045943  ...   -0.232265 -0.498460  0.234096   \n",
      "4992   0.552987 -0.181307  1.278670  ...    0.043411  0.399499 -0.039835   \n",
      "4993   0.448767 -0.101688 -0.388293  ...   -0.042084  0.051827 -0.215099   \n",
      "4994   0.446372  0.077383  0.620408  ...   -0.370338 -0.623279 -0.173651   \n",
      "4995  -0.467694  0.090628  2.155096  ...   -0.231608 -0.061360 -0.064749   \n",
      "4996  -0.240184  0.331519  0.805293  ...    0.065633  0.566488 -0.060821   \n",
      "4997   0.597708 -1.541198  0.189042  ...    0.177583 -0.468072 -0.109660   \n",
      "4998  -0.073032  0.800712  0.699399  ...   -0.212503 -0.366284  0.047824   \n",
      "4999  -0.462825  1.242180  0.723136  ...   -0.198593 -0.401251  0.101922   \n",
      "5000  -0.772094 -0.102115  1.413870  ...   -0.586067 -1.076901 -0.084323   \n",
      "5001   0.504681 -0.136510  1.967076  ...   -0.271496 -0.368698  0.003399   \n",
      "5002  -0.341051  0.982751  1.934642  ...   -0.243488 -0.656595  0.062067   \n",
      "\n",
      "           V24       V25       V26       V27       V28   Amount  Class  \n",
      "541   0.320198  0.044519  0.177840  0.261145 -0.143276     0.00      1  \n",
      "623  -0.293803  0.279798 -0.145362 -0.252773  0.035764   529.00      1  \n",
      "4920 -0.087330 -0.156114 -0.542628  0.039566 -0.153029   239.93      1  \n",
      "6108 -0.053502  0.252405 -0.657488 -0.827136  0.849573    59.00      1  \n",
      "6329 -1.632653  1.488901  0.566797 -0.010016  0.146793     1.00      1  \n",
      "6331  0.128940  1.488481  0.507963  0.735822  0.513574     1.00      1  \n",
      "6334 -0.759908  1.605056  0.540675  0.737040  0.496699     1.00      1  \n",
      "6336 -0.716522  1.415717  0.555265  0.530507  0.404474     1.00      1  \n",
      "6338 -0.219845  1.474753  0.491192  0.518868  0.402528     1.00      1  \n",
      "6427 -0.364700 -1.843078  0.351909  0.594550  0.099372     1.00      1  \n",
      "6446  0.473246 -1.959304  0.319476  0.600485  0.129305     1.00      1  \n",
      "6472 -0.372216 -2.032068  0.366778  0.395171  0.020206     1.00      1  \n",
      "6529 -0.425550  0.123644  0.321985  0.264028  0.132817     1.00      1  \n",
      "6609  0.461700  0.044146  0.305704  0.530981  0.243746     1.00      1  \n",
      "6641 -0.234649 -1.004881  0.435832  0.618324  0.148469     1.00      1  \n",
      "6717 -0.279642  1.106766  0.323885  0.894767  0.569519     1.00      1  \n",
      "6719 -0.263743  1.539916  0.523574  0.891025  0.572741     1.00      1  \n",
      "6734  0.083008 -1.911034  0.322188  0.620867  0.185030     1.00      1  \n",
      "6774  0.131464 -1.908217  0.334808  0.748534  0.175414     1.00      1  \n",
      "6820  0.071696  0.092007  0.308498  0.552591  0.298954     1.00      1  \n",
      "6870  0.070614  0.058504  0.304883  0.418012  0.208858     1.00      1  \n",
      "6882 -0.217565 -0.138776 -0.424453 -1.002041  0.890780     1.10      1  \n",
      "6899 -0.286016  1.007934  0.413196  0.280284  0.303937     1.00      1  \n",
      "6903 -0.288835  1.011752  0.425965  0.413140  0.308205     1.00      1  \n",
      "6971  0.170279 -0.393844  0.296367  1.985913 -0.900452  1809.68      1  \n",
      "8296 -1.164555  1.701796  0.690806  2.119749  1.108933     1.00      1  \n",
      "8312 -0.403114  1.568445  0.521884  0.527938  0.411910     1.00      1  \n",
      "8335 -0.769348 -1.746337  0.502040  1.977258  0.711607     1.00      1  \n",
      "8615 -1.189308  1.188536  0.605242  1.881529  0.875260     1.00      1  \n",
      "8617 -0.417918 -0.911188  0.466524  0.627393  0.157851     1.00      1  \n",
      "...        ...       ...       ...       ...       ...      ...    ...  \n",
      "4973  0.953437  0.395392  0.207383 -0.044762  0.007913     6.99      0  \n",
      "4974 -0.830509 -0.256202 -0.263743 -0.432948 -0.204091     6.00      0  \n",
      "4975 -0.052739  0.379838  0.071938  0.007262  0.013612     0.00      0  \n",
      "4976 -0.004860  0.549556 -0.334677 -0.005892  0.009973    15.00      0  \n",
      "4977 -0.072557  0.282644  0.366931  0.111733  0.099355   293.50      0  \n",
      "4978  0.479244  0.045734 -0.460122  0.263146  0.098380     5.29      0  \n",
      "4979 -0.850152  0.655911  0.456967 -0.054736 -0.018901    10.00      0  \n",
      "4980  0.058177 -0.220649  0.263873 -0.050867  0.058459     1.17      0  \n",
      "4981 -0.433773  0.688174  0.450790 -0.040538 -0.004251     0.99      0  \n",
      "4982 -0.020179 -0.098162  0.054619  0.061706  0.137407     3.99      0  \n",
      "4983 -0.514442  0.245968 -0.509989 -0.088402 -0.143052     0.12      0  \n",
      "4984  0.579289 -0.327490  0.835289 -0.455769 -0.311448    29.97      0  \n",
      "4985  0.320997  0.409073 -0.285680 -0.392678 -0.162782    10.00      0  \n",
      "4986 -0.106127  0.499995 -0.061028  0.016722  0.023935    59.95      0  \n",
      "4987 -0.070214  0.246573  0.084155  0.775193  0.354145    17.99      0  \n",
      "4988 -0.139516 -0.209064  0.039999  0.208183  0.075771     0.89      0  \n",
      "4989  0.366165  0.532330  0.400851 -0.049947  0.005149    19.99      0  \n",
      "4990  0.328883  0.036036 -0.410763  0.274227  0.079485    19.94      0  \n",
      "4991  0.288199 -0.836392 -0.131824  0.091034  0.088357     6.51      0  \n",
      "4992  0.327863 -0.353313 -0.391969 -0.043287  0.274894     1.06      0  \n",
      "4993  0.344599  0.197020  0.263941  0.042612  0.085990    22.02      0  \n",
      "4994 -0.520257  0.338650 -0.499198 -0.084009 -0.161852    19.99      0  \n",
      "4995  0.049254  0.588488 -0.297483  0.045084  0.017438    15.00      0  \n",
      "4996  0.327924 -0.561712  0.306355  0.165721  0.148775    15.18      0  \n",
      "4997 -0.362803 -0.456087 -0.470498 -0.612240 -0.511449    56.15      0  \n",
      "4998  0.517534 -0.160048  0.230429  0.135888  0.101896     4.00      0  \n",
      "4999  0.512960 -0.087544  0.236889  0.113365  0.101352     1.00      0  \n",
      "5000  0.371567  0.169164  1.011535 -0.085150  0.031151   178.90      0  \n",
      "5001  0.310213 -0.543923  0.659908  0.039240 -0.002366     1.46      0  \n",
      "5002  0.964770 -0.043779  0.612579 -1.166297 -0.358695     0.68      0  \n",
      "\n",
      "[5492 rows x 31 columns]\n"
     ]
    }
   ],
   "source": [
    "# Split the Data\n",
    "df_raw = pd.DataFrame(points)\n",
    "# print(df.loc[df['Class'] == 1].shape)\n",
    "# print(df.loc[df['Class'] == 0].shape)\n",
    "# print(df.describe())\n",
    "# print(df.isnull().sum(axis=1))\n",
    "df_1 = df_raw.loc[df_raw['Class'] == 1]\n",
    "df_2 = df_raw.loc[df_raw['Class'] == 0]\n",
    "df_2 = df_2.iloc[0:5000]\n",
    "# y = df.values[0:1000, 30]\n",
    "# x = df.values[0:1000, 0:29]\n",
    "df = df_1.append(df_2)\n",
    "print(df)"
   ]
  },
  {
   "cell_type": "markdown",
   "metadata": {},
   "source": [
    "##  División Training y Test"
   ]
  },
  {
   "cell_type": "code",
   "execution_count": 5,
   "metadata": {},
   "outputs": [
    {
     "name": "stdout",
     "output_type": "stream",
     "text": [
      "Training\n",
      "(4393, 29) (4393,)\n",
      "Test\n",
      "(1099, 29) (1099,)\n"
     ]
    }
   ],
   "source": [
    "y = df.values[:, 30]\n",
    "x = df.values[:, 0:29]\n",
    "X_train, X_test, y_train, y_test = train_test_split(x, y, test_size=0.2, random_state=0)\n",
    "print(\"Training\")\n",
    "print(X_train.shape, y_train.shape)\n",
    "print(\"Test\")\n",
    "print(X_test.shape, y_test.shape)"
   ]
  },
  {
   "cell_type": "code",
   "execution_count": null,
   "metadata": {},
   "outputs": [],
   "source": [
    "# NO EJECUTAR\n",
    "'''\n",
    "scores = []\n",
    "for val in range(1, 41):\n",
    "    clf = RandomForestClassifier(n_estimators = val)\n",
    "    validated = cross_val_score(clf, X_train, y_train, cv = 10)\n",
    "    scores.append(validated)\n",
    "\n",
    "sns.boxplot(scores)\n",
    "plt.xlabel(\"Number of trees\")\n",
    "plt.ylabel(\"Classification scores\")\n",
    "plt.ylabel(\"Classification score for number of trees\")\n",
    "plt.show()\n",
    "'''"
   ]
  },
  {
   "cell_type": "markdown",
   "metadata": {},
   "source": [
    "## Tuning"
   ]
  },
  {
   "cell_type": "code",
   "execution_count": 6,
   "metadata": {},
   "outputs": [
    {
     "data": {
      "text/plain": [
       "GridSearchCV(cv=10, error_score='raise',\n",
       "       estimator=RandomForestClassifier(bootstrap=True, class_weight=None, criterion='gini',\n",
       "            max_depth=None, max_features='auto', max_leaf_nodes=None,\n",
       "            min_impurity_decrease=0.0, min_impurity_split=None,\n",
       "            min_samples_leaf=1, min_samples_split=2,\n",
       "            min_weight_fraction_leaf=0.0, n_estimators=10, n_jobs=1,\n",
       "            oob_score=False, random_state=None, verbose=0,\n",
       "            warm_start=False),\n",
       "       fit_params={}, iid=True, n_jobs=1,\n",
       "       param_grid={'n_estimators': [1, 2, 3, 4, 5, 6, 7, 8, 9, 10]},\n",
       "       pre_dispatch='2*n_jobs', refit=True,\n",
       "       scoring=make_scorer(accuracy_score), verbose=0)"
      ]
     },
     "execution_count": 6,
     "metadata": {},
     "output_type": "execute_result"
    }
   ],
   "source": [
    "# RandomForestClassifier\n",
    "from sklearn.metrics import make_scorer, accuracy_score\n",
    "from sklearn.metrics import classification_report\n",
    "accuracy_scorer = make_scorer(accuracy_score)\n",
    "\n",
    "# Definiendo el espacio de búsqueda de nuestro algoritmo\n",
    "parameters = {\n",
    "'n_estimators': [1, 2, 3, 4, 5, 6, 7, 8, 9, 10]\n",
    "}\n",
    "\n",
    "clfForest = RandomForestClassifier()\n",
    "\n",
    "gridCVForest = grid_search.GridSearchCV(clfForest, parameters, scoring=accuracy_scorer, cv = 10) #\n",
    "gridCVForest.fit(X_train,y_train)"
   ]
  },
  {
   "cell_type": "code",
   "execution_count": 7,
   "metadata": {},
   "outputs": [
    {
     "name": "stdout",
     "output_type": "stream",
     "text": [
      "Mejor exactitud:  0.9995447302526748\n",
      "Resultados parciales:  [mean: 0.99272, std: 0.00507, params: {'n_estimators': 1}, mean: 0.99431, std: 0.00469, params: {'n_estimators': 2}, mean: 0.99704, std: 0.00178, params: {'n_estimators': 3}, mean: 0.99863, std: 0.00151, params: {'n_estimators': 4}, mean: 0.99932, std: 0.00104, params: {'n_estimators': 5}, mean: 0.99818, std: 0.00284, params: {'n_estimators': 6}, mean: 0.99954, std: 0.00091, params: {'n_estimators': 7}, mean: 0.99909, std: 0.00111, params: {'n_estimators': 8}, mean: 0.99932, std: 0.00104, params: {'n_estimators': 9}, mean: 0.99909, std: 0.00111, params: {'n_estimators': 10}]\n",
      "Mejor conjunto de parámetros:  {'n_estimators': 7}\n"
     ]
    }
   ],
   "source": [
    "pred_test_forest = gridCVForest.predict(X_test)\n",
    "print(\"Mejor exactitud: \", gridCVForest.best_score_) # no exactitud / si presicion y recall por cada clases (0 y 1)\n",
    "print(\"Resultados parciales: \", gridCVForest.grid_scores_)\n",
    "print(\"Mejor conjunto de parámetros: \", gridCVForest.best_params_)"
   ]
  },
  {
   "cell_type": "code",
   "execution_count": 8,
   "metadata": {},
   "outputs": [
    {
     "data": {
      "text/plain": [
       "GridSearchCV(cv=10, error_score='raise',\n",
       "       estimator=SVC(C=1.0, cache_size=200, class_weight=None, coef0=0.0,\n",
       "  decision_function_shape='ovr', degree=3, gamma='auto', kernel='rbf',\n",
       "  max_iter=-1, probability=False, random_state=0, shrinking=True,\n",
       "  tol=0.001, verbose=False),\n",
       "       fit_params={}, iid=True, n_jobs=1,\n",
       "       param_grid={'C': [0.1, 1, 10, 100], 'gamma': array([0.1  , 0.01 , 0.001]), 'kernel': ['linear', 'rbf']},\n",
       "       pre_dispatch='2*n_jobs', refit=True,\n",
       "       scoring=make_scorer(accuracy_score), verbose=0)"
      ]
     },
     "execution_count": 8,
     "metadata": {},
     "output_type": "execute_result"
    }
   ],
   "source": [
    "# Support Vector Classification\n",
    "\n",
    "parameters = {\n",
    "'C': [0.1, 1, 10, 100],\n",
    "'kernel': ['linear','rbf'],\n",
    "'gamma' : 10.0**-np.arange(1,4)\n",
    "}\n",
    "\n",
    "clfSVC = svm.SVC(random_state=0)\n",
    "\n",
    "gridCVSVC = grid_search.GridSearchCV(clfSVC, parameters, scoring=accuracy_scorer, cv = 10) #\n",
    "gridCVSVC.fit(X_train,y_train)"
   ]
  },
  {
   "cell_type": "code",
   "execution_count": 9,
   "metadata": {},
   "outputs": [
    {
     "name": "stdout",
     "output_type": "stream",
     "text": [
      "Mejor exactitud:  0.999317095379012\n",
      "Resultados parciales:  [mean: 0.99932, std: 0.00104, params: {'C': 0.1, 'gamma': 0.1, 'kernel': 'linear'}, mean: 0.90963, std: 0.00087, params: {'C': 0.1, 'gamma': 0.1, 'kernel': 'rbf'}, mean: 0.99932, std: 0.00104, params: {'C': 0.1, 'gamma': 0.01, 'kernel': 'linear'}, mean: 0.90963, std: 0.00087, params: {'C': 0.1, 'gamma': 0.01, 'kernel': 'rbf'}, mean: 0.99932, std: 0.00104, params: {'C': 0.1, 'gamma': 0.001, 'kernel': 'linear'}, mean: 0.91122, std: 0.00139, params: {'C': 0.1, 'gamma': 0.001, 'kernel': 'rbf'}, mean: 0.99932, std: 0.00104, params: {'C': 1, 'gamma': 0.1, 'kernel': 'linear'}, mean: 0.91486, std: 0.00340, params: {'C': 1, 'gamma': 0.1, 'kernel': 'rbf'}, mean: 0.99932, std: 0.00104, params: {'C': 1, 'gamma': 0.01, 'kernel': 'linear'}, mean: 0.92807, std: 0.00708, params: {'C': 1, 'gamma': 0.01, 'kernel': 'rbf'}, mean: 0.99932, std: 0.00104, params: {'C': 1, 'gamma': 0.001, 'kernel': 'linear'}, mean: 0.99909, std: 0.00151, params: {'C': 1, 'gamma': 0.001, 'kernel': 'rbf'}, mean: 0.99932, std: 0.00104, params: {'C': 10, 'gamma': 0.1, 'kernel': 'linear'}, mean: 0.91555, std: 0.00388, params: {'C': 10, 'gamma': 0.1, 'kernel': 'rbf'}, mean: 0.99932, std: 0.00104, params: {'C': 10, 'gamma': 0.01, 'kernel': 'linear'}, mean: 0.92966, std: 0.00711, params: {'C': 10, 'gamma': 0.01, 'kernel': 'rbf'}, mean: 0.99932, std: 0.00104, params: {'C': 10, 'gamma': 0.001, 'kernel': 'linear'}, mean: 0.99909, std: 0.00151, params: {'C': 10, 'gamma': 0.001, 'kernel': 'rbf'}, mean: 0.99932, std: 0.00104, params: {'C': 100, 'gamma': 0.1, 'kernel': 'linear'}, mean: 0.91555, std: 0.00388, params: {'C': 100, 'gamma': 0.1, 'kernel': 'rbf'}, mean: 0.99932, std: 0.00104, params: {'C': 100, 'gamma': 0.01, 'kernel': 'linear'}, mean: 0.92966, std: 0.00711, params: {'C': 100, 'gamma': 0.01, 'kernel': 'rbf'}, mean: 0.99932, std: 0.00104, params: {'C': 100, 'gamma': 0.001, 'kernel': 'linear'}, mean: 0.99909, std: 0.00151, params: {'C': 100, 'gamma': 0.001, 'kernel': 'rbf'}]\n",
      "Mejor conjunto de parámetros:  {'C': 0.1, 'gamma': 0.1, 'kernel': 'linear'}\n"
     ]
    }
   ],
   "source": [
    "pred_test_svc = gridCVSVC.predict(X_test)\n",
    "print(\"Mejor exactitud: \", gridCVSVC.best_score_)\n",
    "print(\"Resultados parciales: \", gridCVSVC.grid_scores_)\n",
    "print(\"Mejor conjunto de parámetros: \", gridCVSVC.best_params_)"
   ]
  },
  {
   "cell_type": "code",
   "execution_count": 10,
   "metadata": {},
   "outputs": [
    {
     "data": {
      "text/plain": [
       "GridSearchCV(cv=10, error_score='raise',\n",
       "       estimator=DecisionTreeClassifier(class_weight=None, criterion='gini', max_depth=None,\n",
       "            max_features=None, max_leaf_nodes=None,\n",
       "            min_impurity_decrease=0.0, min_impurity_split=None,\n",
       "            min_samples_leaf=1, min_samples_split=2,\n",
       "            min_weight_fraction_leaf=0.0, presort=False, random_state=None,\n",
       "            splitter='best'),\n",
       "       fit_params={}, iid=True, n_jobs=1,\n",
       "       param_grid={'criterion': ['entropy'], 'max_depth': [1, 2, 3]},\n",
       "       pre_dispatch='2*n_jobs', refit=True,\n",
       "       scoring=make_scorer(accuracy_score), verbose=0)"
      ]
     },
     "execution_count": 10,
     "metadata": {},
     "output_type": "execute_result"
    }
   ],
   "source": [
    "# Decision Tree Classifier\n",
    "\n",
    "parameters = {\n",
    "'max_depth': [1, 2, 3],\n",
    "'criterion': ['entropy'],\n",
    "}\n",
    "\n",
    "clfTree = DecisionTreeClassifier()\n",
    "\n",
    "gridCVTree = grid_search.GridSearchCV(clfTree, parameters, scoring=accuracy_scorer, cv = 10) #\n",
    "gridCVTree.fit(X_train,y_train)"
   ]
  },
  {
   "cell_type": "code",
   "execution_count": 11,
   "metadata": {},
   "outputs": [
    {
     "name": "stdout",
     "output_type": "stream",
     "text": [
      "Mejor exactitud:  0.999317095379012\n",
      "Resultados parciales:  [mean: 0.99932, std: 0.00104, params: {'criterion': 'entropy', 'max_depth': 1}, mean: 0.99932, std: 0.00104, params: {'criterion': 'entropy', 'max_depth': 2}, mean: 0.99886, std: 0.00153, params: {'criterion': 'entropy', 'max_depth': 3}]\n",
      "Mejor conjunto de parámetros:  {'criterion': 'entropy', 'max_depth': 1}\n"
     ]
    }
   ],
   "source": [
    "pred_test_tree = gridCVTree.predict(X_test)\n",
    "print(\"Mejor exactitud: \", gridCVTree.best_score_)\n",
    "print(\"Resultados parciales: \", gridCVTree.grid_scores_)\n",
    "print(\"Mejor conjunto de parámetros: \", gridCVTree.best_params_)"
   ]
  },
  {
   "cell_type": "markdown",
   "metadata": {},
   "source": [
    "## AdaBoost"
   ]
  },
  {
   "cell_type": "code",
   "execution_count": 12,
   "metadata": {},
   "outputs": [
    {
     "name": "stdout",
     "output_type": "stream",
     "text": [
      "AdaBoost\n",
      "             precision    recall  f1-score   support\n",
      "\n",
      "          0       1.00      1.00      1.00      1004\n",
      "          1       1.00      1.00      1.00        95\n",
      "\n",
      "avg / total       1.00      1.00      1.00      1099\n",
      "\n",
      "1.0\n"
     ]
    }
   ],
   "source": [
    "from sklearn.ensemble import AdaBoostClassifier\n",
    "\n",
    "# clf_svc_ada = svm.SVC(random_state=0, gamma= 0.001, kernel='rbf', C= 0.1)\n",
    "clf_svc_ada = svm.SVC(random_state=0, gamma= 0.1, kernel='linear', C= 0.1)\n",
    "ada = AdaBoostClassifier(base_estimator=clf_svc_ada,\n",
    "                         n_estimators=20, \n",
    "                         learning_rate=1,\n",
    "                         algorithm='SAMME',\n",
    "                         random_state=12)\n",
    "\n",
    "ada.fit(X_train, y_train)\n",
    "pred_test_ada = ada.predict(X_test)\n",
    "\n",
    "# AdaBoost\n",
    "print(\"AdaBoost\")\n",
    "print(classification_report(y_test, pred_test_ada, target_names=['0', '1']))\n",
    "print(accuracy_score(y_test,pred_test_ada))"
   ]
  },
  {
   "cell_type": "markdown",
   "metadata": {},
   "source": [
    "## Resultados"
   ]
  },
  {
   "cell_type": "code",
   "execution_count": 13,
   "metadata": {},
   "outputs": [
    {
     "name": "stdout",
     "output_type": "stream",
     "text": [
      "Random Forest\n",
      "             precision    recall  f1-score   support\n",
      "\n",
      "          0       1.00      1.00      1.00      1004\n",
      "          1       1.00      1.00      1.00        95\n",
      "\n",
      "avg / total       1.00      1.00      1.00      1099\n",
      "\n",
      "1.0\n",
      "-----------------------------\n",
      "Support Vector Classifier\n",
      "             precision    recall  f1-score   support\n",
      "\n",
      "          0       1.00      1.00      1.00      1004\n",
      "          1       1.00      1.00      1.00        95\n",
      "\n",
      "avg / total       1.00      1.00      1.00      1099\n",
      "\n",
      "1.0\n",
      "-----------------------------\n",
      "Tree CLassifier\n",
      "             precision    recall  f1-score   support\n",
      "\n",
      "          0       1.00      1.00      1.00      1004\n",
      "          1       1.00      1.00      1.00        95\n",
      "\n",
      "avg / total       1.00      1.00      1.00      1099\n",
      "\n",
      "1.0\n",
      "-----------------------------\n"
     ]
    }
   ],
   "source": [
    "# Final report\n",
    "classes = ['0', '1']\n",
    "# Random Forest\n",
    "print(\"Random Forest\")\n",
    "print(classification_report(y_test, pred_test_forest, target_names=classes))\n",
    "print(accuracy_score(y_test,pred_test_forest))\n",
    "print(\"-----------------------------\")\n",
    "# Support Vector Classifier\n",
    "print(\"Support Vector Classifier\")\n",
    "print(classification_report(y_test, pred_test_svc, target_names=classes))\n",
    "print(accuracy_score(y_test,pred_test_svc))\n",
    "print(\"-----------------------------\")\n",
    "# Tree CLassifier\n",
    "print(\"Tree CLassifier\")\n",
    "print(classification_report(y_test, pred_test_tree, target_names=classes))\n",
    "print(accuracy_score(y_test,pred_test_tree))\n",
    "print(\"-----------------------------\")"
   ]
  },
  {
   "cell_type": "code",
   "execution_count": 14,
   "metadata": {},
   "outputs": [],
   "source": [
    "from sklearn.model_selection import validation_curve\n",
    "from sklearn.preprocessing import StandardScaler\n",
    "from sklearn.pipeline import Pipeline\n",
    "\n",
    "pipe_lr = Pipeline([('scl', StandardScaler()),\n",
    "                    ('clf', svm.SVC(random_state=0, gamma= 0.1, kernel='linear', C= 0.1))])\n",
    "                    #('clf', svm.SVC(random_state=0, gamma= 0.001, kernel='rbf', C= 0.1))])\n",
    "\n",
    "#pipe_lr = Pipeline([('clf', RandomForestClassifier(n_estimators=7))])\n",
    "\n",
    "# {}\n",
    "param_range = [0.001, 0.01, 0.1, 1.0, 10.0, 100.0]\n",
    "train_scores, test_scores = validation_curve(estimator=pipe_lr, X=X_train, y=y_train, param_name='clf__C',param_range=param_range, cv=10)"
   ]
  },
  {
   "cell_type": "code",
   "execution_count": 15,
   "metadata": {},
   "outputs": [],
   "source": [
    "train_mean = np.mean(train_scores, axis=1)\n",
    "train_std = np.std(train_scores, axis=1)\n",
    "test_mean = np.mean(test_scores, axis=1)\n",
    "test_std = np.std(test_scores, axis=1)\n"
   ]
  },
  {
   "cell_type": "code",
   "execution_count": 20,
   "metadata": {},
   "outputs": [
    {
     "data": {
      "image/png": "[encoded data removed]",
      "text/plain": [
       "<matplotlib.figure.Figure at 0x7f37be83e9e8>"
      ]
     },
     "metadata": {},
     "output_type": "display_data"
    }
   ],
   "source": [
    "\n",
    "import matplotlib.pyplot as plt\n",
    "plt.plot(param_range, train_mean, \n",
    "         color='blue', marker='o', \n",
    "         markersize=5, label='training accuracy')\n",
    "\n",
    "plt.fill_between(param_range, train_mean + train_std,\n",
    "                 train_mean - train_std, alpha=0.15,\n",
    "                 color='blue')\n",
    "\n",
    "plt.plot(param_range, test_mean, \n",
    "         color='green', linestyle='--', \n",
    "         marker='s', markersize=5, \n",
    "         label='validation accuracy')\n",
    "\n",
    "plt.fill_between(param_range, \n",
    "                 test_mean + test_std,\n",
    "                 test_mean - test_std, \n",
    "                 alpha=0.15, color='green')\n",
    "\n",
    "plt.grid()\n",
    "plt.xscale('log')\n",
    "plt.legend(loc='lower right')\n",
    "plt.xlabel('Parameter C')\n",
    "plt.ylabel('Accuracy')\n",
    "plt.ylim([0.985, 1.0])\n",
    "plt.tight_layout()\n",
    "plt.show()"
   ]
  },
  {
   "cell_type": "code",
   "execution_count": 97,
   "metadata": {},
   "outputs": [
    {
     "name": "stdout",
     "output_type": "stream",
     "text": [
      "1e-50 - [0.58176101 0.58176101 0.58359621]\n",
      "4.2813323987194307e-48 - [0.58176101 0.58176101 0.58359621]\n",
      "1.8329807108324376e-45 - [0.58176101 0.58176101 0.58359621]\n",
      "7.847599703514559e-43 - [0.58176101 0.58176101 0.58359621]\n",
      "3.359818286283788e-40 - [0.58176101 0.58176101 0.58359621]\n",
      "1.4384498882876777e-37 - [0.58176101 0.58176101 0.58359621]\n",
      "6.15848211066028e-35 - [0.58176101 0.58176101 0.58359621]\n",
      "2.6366508987303664e-32 - [0.58176101 0.58176101 0.58359621]\n",
      "1.1288378916846929e-29 - [0.58176101 0.58176101 0.58359621]\n",
      "4.832930238571772e-27 - [0.58176101 0.58176101 0.58359621]\n",
      "2.0691380811147984e-24 - [0.58176101 0.58176101 0.58359621]\n",
      "8.858667904100868e-22 - [0.58176101 0.58176101 0.58359621]\n",
      "3.792690190732269e-19 - [0.58176101 0.58176101 0.58359621]\n",
      "1.6237767391887442e-16 - [0.58176101 0.58176101 0.58359621]\n",
      "6.951927961775648e-14 - [0.58176101 0.58176101 0.58359621]\n",
      "2.976351441631313e-11 - [0.95597484 0.96226415 0.95583596]\n",
      "1.2742749857031425e-08 - [1.         0.99685535 1.        ]\n",
      "5.455594781168604e-06 - [1.         0.99685535 1.        ]\n",
      "0.0023357214690901402 - [1.         0.99685535 1.        ]\n",
      "1.0 - [1.         0.99685535 1.        ]\n"
     ]
    },
    {
     "data": {
      "image/png": "[encoded data removed]",
      "text/plain": [
       "<matplotlib.figure.Figure at 0x7f3e64fccc18>"
      ]
     },
     "metadata": {},
     "output_type": "display_data"
    }
   ],
   "source": [
    "# svc = svm.SVC(random_state=0, gamma= 0.001, kernel='rbf', C= 0.1)\n",
    "svc = svm.SVC(random_state=0, gamma= 0.1, kernel='linear', C= 0.1)\n",
    "C_s = np.logspace(-50, 0, 20)\n",
    "scores = list()\n",
    "scores_std = list()\n",
    "for C in C_s:\n",
    "    svc.C = C\n",
    "    this_scores = cross_val_score(svc, X_train, y_train)\n",
    "    print(str(C) + \" - \" + str(this_scores))\n",
    "    scores.append(np.mean(this_scores))\n",
    "    scores_std.append(np.std(this_scores))\n",
    "\n",
    "# Do the plotting\n",
    "import matplotlib.pyplot as plt\n",
    "plt.figure(1, figsize=(8, 6))\n",
    "plt.clf()\n",
    "plt.semilogx(C_s, scores)\n",
    "plt.semilogx(C_s, np.array(scores) + np.array(scores_std), 'b--')\n",
    "plt.semilogx(C_s, np.array(scores) - np.array(scores_std), 'b--')\n",
    "locs, labels = plt.yticks()\n",
    "plt.yticks(locs, list(map(lambda x: \"%g\" % x, locs)))\n",
    "plt.ylabel('CV score')\n",
    "plt.xlabel('Parameter C')\n",
    "plt.ylim(0, 1.1)\n",
    "plt.show()"
   ]
  },
  {
   "cell_type": "markdown",
   "metadata": {},
   "source": [
    "## Curva de aprendizaje"
   ]
  },
  {
   "cell_type": "code",
   "execution_count": 21,
   "metadata": {},
   "outputs": [],
   "source": [
    "# Importando Learning Curve\n",
    "from sklearn.model_selection import learning_curve\n",
    "\n",
    "train_sizes, train_scores, val_scores =\\\n",
    "                learning_curve(estimator=pipe_lr,\n",
    "                               X=X_train,\n",
    "                               y=y_train,\n",
    "                               train_sizes=np.linspace(0.1, 1.0, 10),\n",
    "                               cv=10,\n",
    "                               n_jobs=1)"
   ]
  },
  {
   "cell_type": "code",
   "execution_count": 25,
   "metadata": {},
   "outputs": [
    {
     "data": {
      "image/png": "[encoded data removed]",
      "text/plain": [
       "<matplotlib.figure.Figure at 0x7f37be816400>"
      ]
     },
     "metadata": {},
     "output_type": "display_data"
    }
   ],
   "source": [
    "train_mean = np.mean(train_scores, axis=1)\n",
    "train_std = np.std(train_scores, axis=1)\n",
    "val_mean = np.mean(val_scores, axis=1)\n",
    "val_std = np.std(val_scores, axis=1)\n",
    "\n",
    "plt.plot(train_sizes, train_mean,\n",
    "         color='blue', marker='o',\n",
    "         markersize=5, label='training accuracy')\n",
    "\n",
    "plt.fill_between(train_sizes,\n",
    "                 train_mean + train_std,\n",
    "                 train_mean - train_std,\n",
    "                 alpha=0.15, color='blue')\n",
    "\n",
    "plt.plot(train_sizes, val_mean,\n",
    "         color='green', linestyle='--',\n",
    "         marker='s', markersize=5,\n",
    "         label='validation accuracy')\n",
    "\n",
    "plt.fill_between(train_sizes,\n",
    "                 val_mean + val_std,\n",
    "                 val_mean - val_std,\n",
    "                 alpha=0.15, color='green')\n",
    "\n",
    "plt.grid()\n",
    "plt.xlabel('Number of training samples')\n",
    "plt.ylabel('Accuracy')\n",
    "plt.legend(loc='lower right')\n",
    "plt.ylim([0.99, 1.0])\n",
    "plt.tight_layout()\n",
    "# plt.savefig('./figures/learning_curve.png', dpi=300)\n",
    "plt.show()"
   ]
  },
  {
   "cell_type": "code",
   "execution_count": null,
   "metadata": {},
   "outputs": [],
   "source": []
  }
 ],
 "metadata": {
  "kernelspec": {
   "display_name": "Python 3",
   "language": "python",
   "name": "python3"
  },
  "language_info": {
   "codemirror_mode": {
    "name": "ipython",
    "version": 3
   },
   "file_extension": ".py",
   "mimetype": "text/x-python",
   "name": "python",
   "nbconvert_exporter": "python",
   "pygments_lexer": "ipython3",
   "version": "3.4.3"
  }
 },
 "nbformat": 4,
 "nbformat_minor": 2
}
